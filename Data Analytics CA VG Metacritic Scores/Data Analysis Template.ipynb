{
 "cells": [
  {
   "cell_type": "markdown",
   "metadata": {},
   "source": [
    "# Applying the Data Analysis Method to a Research Problem"
   ]
  },
  {
   "cell_type": "markdown",
   "metadata": {},
   "source": [
    "# 1. Determine Research Objectives and Assess the Situation  <a class=\"anchor\" id=\"Businessunderstanding\"></a>\n",
    "The first stage of the process is to understand what you want to accomplish from a research perspective. You may have competing objectives and constraints that must be properly balanced. The goal of this stage of the process is to uncover important factors that could influence the outcome of the project. Neglecting this step can mean that a great deal of effort is put into producing the right answers to the wrong questions."
   ]
  },
  {
   "cell_type": "markdown",
   "metadata": {},
   "source": [
    "## 1.1. A Game Companys Effect On Their Own Metacritic <a class=\"anchor\" id=\"Title\"></a>"
   ]
  },
  {
   "cell_type": "markdown",
   "metadata": {},
   "source": [
    "## 1.2. Introduction <a class=\"anchor\" id=\"Introduction\"></a> \n",
    "\n",
    "The aim of this project is to discover whether or not users have a bias towards certain game developers, publishers and series.\n",
    "\n",
    "I couldn't find any relevant research related to this topic, so the only real starting point i have is based off of forum threads i've read complaining about paticular game companies and how they say they're going to boycot the company as a whole. On the other hand certain companies have a reputation of having a very devouted fanbase that like any game they put out regardless of the games flaws.\n",
    "\n",
    "Some relevant issues that might affect statistics are whether the company is notorious for releasing games with undesirable features such as DRM or 'Loot Boxes'\n",
    "\n",
    "This is an important problem as some games can contain egregious 'Micro-transactions' which, while very profitable for the company, are often implemented in a way that has a negative impact on the base game. I am conducting this research to try and find if companies that are notorious for implementing systems like these have a lower user review score for their games, even for their games that dont implement these features.\n",
    "\n",
    "The initial way im going to determine this is to compare the average user score to the average score of the official reviewers. Afterwards,for each game for a specific publisher a user has reviewed, i will compare their score to the average user score for that game. I will use this data to determine whether they tend to give lower or higher scores based on the publisher.\n",
    "\n",
    "This will not be a way of finding out whether a game will suceed or not, but stakeholders frequently look at metacritic scores of a companys games as a way of deciding whether they want to invest or not.\n",
    " "
   ]
  },
  {
   "cell_type": "markdown",
   "metadata": {},
   "source": [
    "## 1.3.Terminology and Key Words<a class=\"anchor\" id=\"Terminology\"></a>\n",
    "\n",
    "- Micro-Transaction: Additional content that can be purchased for the game, priced between €1 - €20.\n",
    "- Loot Box: Additional content that can be purchased whos contents are of random value, akin to gambling.\n",
    "- Reviewer: Refers to the reviewers who are Game Journalists (Metascore in GameInfo dataset)\n",
    "- User: Refers to the user reviews (Avg_Userscore in GameInfo dataset & Userscore in Comments dataset)\n"
   ]
  },
  {
   "cell_type": "markdown",
   "metadata": {},
   "source": [
    "## 1.2.Background <a class=\"anchor\" id=\"Background\"></a>\n",
    "- Surveys publications (books, journals and sometimes conference papers) on work that has already been done on the topic of your report. \n",
    "- It should only include studies that have direct relevance to your research.  \n",
    "- Introduce your review by explaining how you went about finding your materials, and any clear trends in research that have emerged.  \n",
    "- Group your texts in themes. Write about each theme as a separate section, giving a critical summary of each piece of work, and showing its relevance to your research. \n",
    "- Conclude with how the review has informed your research (things you’ll be building on, gaps you’ll be filling etc.). \n"
   ]
  },
  {
   "cell_type": "markdown",
   "metadata": {},
   "source": [
    " ## 1.3 Research Question <a class=\"anchor\" id=\"Research Question\"></a>"
   ]
  },
  {
   "cell_type": "markdown",
   "metadata": {},
   "source": [
    "Question: Is There a Bias Towards Certain Game Developers.\n",
    "\n",
    "People often complain about the pratices certain game developers artake in, and some people will love a game no matter its flaws just beacuse it was made by Nintendo. This project aims to prove wether these claims are true or not."
   ]
  },
  {
   "cell_type": "markdown",
   "metadata": {},
   "source": [
    " ## 1.4 Methodology/Methods <a class=\"anchor\" id=\"Methodology/Methods\"></a>"
   ]
  },
  {
   "cell_type": "markdown",
   "metadata": {},
   "source": [
    "- State clearly how you carried out your investigation. \n",
    "- Explain why you chose this particular method. Is it based on the research in your background section? \n",
    "- Include techniques and any equipment you used. for exampl any python libraies or external tools like excel or screen scraping.\n",
    "- If there were participants in your research, who were they? How many? How were they selected?  \n",
    "- Write this section concisely but thoroughly.  \n",
    "- You know what you did, but could a reader follow your description?   "
   ]
  },
  {
   "cell_type": "markdown",
   "metadata": {},
   "source": [
    "# 2. Stage  Two - Data Understanding <a class=\"anchor\" id=\"Dataunderstanding\"></a>\n",
    "The second stage of the process requires you to acquire the data listed in the project resources. This initial collection includes data loading, if this is necessary for data understanding. For example, if you use a specific tool for data understanding, it makes perfect sense to load your data into this tool. If you acquire multiple data sources then you need to consider how and when you're going to integrate these."
   ]
  },
  {
   "cell_type": "markdown",
   "metadata": {},
   "source": [
    "## 2.1 Initial Data Report <a class=\"anchor\" id=\"Datareport\"></a>\n",
    "Initial data collection report - \n",
    "List the data sources acquired together with their locations, the methods used to acquire them and any problems encountered. Record problems you encountered and any resolutions achieved. This will help both with future replication of this project and with the execution of similar future projects."
   ]
  },
  {
   "cell_type": "code",
   "execution_count": 1,
   "metadata": {},
   "outputs": [],
   "source": [
    "# Import Libraries Required\n",
    "import pandas as pd\n",
    "import matplotlib.pyplot as plt\n",
    "%matplotlib inline\n",
    "import numpy as np\n",
    "import seaborn as sns"
   ]
  },
  {
   "cell_type": "code",
   "execution_count": 2,
   "metadata": {},
   "outputs": [
    {
     "data": {
      "text/html": [
       "<div>\n",
       "<style scoped>\n",
       "    .dataframe tbody tr th:only-of-type {\n",
       "        vertical-align: middle;\n",
       "    }\n",
       "\n",
       "    .dataframe tbody tr th {\n",
       "        vertical-align: top;\n",
       "    }\n",
       "\n",
       "    .dataframe thead th {\n",
       "        text-align: right;\n",
       "    }\n",
       "</style>\n",
       "<table border=\"1\" class=\"dataframe\">\n",
       "  <thead>\n",
       "    <tr style=\"text-align: right;\">\n",
       "      <th></th>\n",
       "      <th>Title</th>\n",
       "      <th>Year</th>\n",
       "      <th>Publisher</th>\n",
       "      <th>Genre</th>\n",
       "      <th>Platform</th>\n",
       "      <th>Metascore</th>\n",
       "      <th>Avg_Userscore</th>\n",
       "      <th>No_Players</th>\n",
       "    </tr>\n",
       "  </thead>\n",
       "  <tbody>\n",
       "    <tr>\n",
       "      <td>0</td>\n",
       "      <td>The Legend of Zelda: Ocarina of Time</td>\n",
       "      <td>1998</td>\n",
       "      <td>Nintendo</td>\n",
       "      <td>Action Adventure;Fantasy</td>\n",
       "      <td>Nintendo64</td>\n",
       "      <td>99</td>\n",
       "      <td>9.1</td>\n",
       "      <td>1 Player</td>\n",
       "    </tr>\n",
       "    <tr>\n",
       "      <td>1</td>\n",
       "      <td>Tony Hawk's Pro Skater 2</td>\n",
       "      <td>2000</td>\n",
       "      <td>NeversoftEntertainment</td>\n",
       "      <td>Sports;Alternative;Skateboarding</td>\n",
       "      <td>PlayStation</td>\n",
       "      <td>98</td>\n",
       "      <td>7.4</td>\n",
       "      <td>1-2</td>\n",
       "    </tr>\n",
       "    <tr>\n",
       "      <td>2</td>\n",
       "      <td>Grand Theft Auto IV</td>\n",
       "      <td>2008</td>\n",
       "      <td>RockstarNorth</td>\n",
       "      <td>Action Adventure;Modern;Modern;Open-World</td>\n",
       "      <td>PlayStation3</td>\n",
       "      <td>98</td>\n",
       "      <td>7.5</td>\n",
       "      <td>1 Player</td>\n",
       "    </tr>\n",
       "    <tr>\n",
       "      <td>3</td>\n",
       "      <td>SoulCalibur</td>\n",
       "      <td>1999</td>\n",
       "      <td>Namco</td>\n",
       "      <td>Action;Fighting;3D</td>\n",
       "      <td>Dreamcast</td>\n",
       "      <td>98</td>\n",
       "      <td>8.6</td>\n",
       "      <td>1-2</td>\n",
       "    </tr>\n",
       "    <tr>\n",
       "      <td>4</td>\n",
       "      <td>Grand Theft Auto IV</td>\n",
       "      <td>2008</td>\n",
       "      <td>RockstarNorth</td>\n",
       "      <td>Action Adventure;Modern;Modern;Open-World</td>\n",
       "      <td>Xbox360</td>\n",
       "      <td>98</td>\n",
       "      <td>7.9</td>\n",
       "      <td>1 Player</td>\n",
       "    </tr>\n",
       "    <tr>\n",
       "      <td>...</td>\n",
       "      <td>...</td>\n",
       "      <td>...</td>\n",
       "      <td>...</td>\n",
       "      <td>...</td>\n",
       "      <td>...</td>\n",
       "      <td>...</td>\n",
       "      <td>...</td>\n",
       "      <td>...</td>\n",
       "    </tr>\n",
       "    <tr>\n",
       "      <td>4995</td>\n",
       "      <td>Donut County</td>\n",
       "      <td>2018</td>\n",
       "      <td>BenEsposito</td>\n",
       "      <td>Action Adventure;General</td>\n",
       "      <td>PC</td>\n",
       "      <td>77</td>\n",
       "      <td>8.1</td>\n",
       "      <td>No Online Multiplayer</td>\n",
       "    </tr>\n",
       "    <tr>\n",
       "      <td>4996</td>\n",
       "      <td>MotorStorm: Apocalypse</td>\n",
       "      <td>2011</td>\n",
       "      <td>EvolutionStudios</td>\n",
       "      <td>Driving;Racing;Simulation;Rally / Offroad;Rall...</td>\n",
       "      <td>PlayStation3</td>\n",
       "      <td>77</td>\n",
       "      <td>7.7</td>\n",
       "      <td>4  Online</td>\n",
       "    </tr>\n",
       "    <tr>\n",
       "      <td>4997</td>\n",
       "      <td>The Last Guy</td>\n",
       "      <td>2008</td>\n",
       "      <td>SCEJapanStudio</td>\n",
       "      <td>Action Adventure;Sci-Fi;Sci-Fi;General</td>\n",
       "      <td>PlayStation3</td>\n",
       "      <td>77</td>\n",
       "      <td>6.8</td>\n",
       "      <td>1 Player</td>\n",
       "    </tr>\n",
       "    <tr>\n",
       "      <td>4998</td>\n",
       "      <td>Valiant Hearts: The Great War</td>\n",
       "      <td>2014</td>\n",
       "      <td>UbisoftMontpellier</td>\n",
       "      <td>Platformer;2D;Action;Platformer;2D</td>\n",
       "      <td>PlayStation4</td>\n",
       "      <td>77</td>\n",
       "      <td>8.4</td>\n",
       "      <td>not specified</td>\n",
       "    </tr>\n",
       "    <tr>\n",
       "      <td>4999</td>\n",
       "      <td>Mothergunship</td>\n",
       "      <td>2018</td>\n",
       "      <td>GripDigital</td>\n",
       "      <td>Action;General</td>\n",
       "      <td>XboxOne</td>\n",
       "      <td>77</td>\n",
       "      <td>7.2</td>\n",
       "      <td>Online Multiplayer</td>\n",
       "    </tr>\n",
       "  </tbody>\n",
       "</table>\n",
       "<p>5000 rows × 8 columns</p>\n",
       "</div>"
      ],
      "text/plain": [
       "                                     Title  Year               Publisher  \\\n",
       "0     The Legend of Zelda: Ocarina of Time  1998                Nintendo   \n",
       "1                 Tony Hawk's Pro Skater 2  2000  NeversoftEntertainment   \n",
       "2                      Grand Theft Auto IV  2008           RockstarNorth   \n",
       "3                              SoulCalibur  1999                   Namco   \n",
       "4                      Grand Theft Auto IV  2008           RockstarNorth   \n",
       "...                                    ...   ...                     ...   \n",
       "4995                          Donut County  2018             BenEsposito   \n",
       "4996                MotorStorm: Apocalypse  2011        EvolutionStudios   \n",
       "4997                          The Last Guy  2008          SCEJapanStudio   \n",
       "4998         Valiant Hearts: The Great War  2014      UbisoftMontpellier   \n",
       "4999                         Mothergunship  2018             GripDigital   \n",
       "\n",
       "                                                  Genre      Platform  \\\n",
       "0                              Action Adventure;Fantasy    Nintendo64   \n",
       "1                      Sports;Alternative;Skateboarding   PlayStation   \n",
       "2             Action Adventure;Modern;Modern;Open-World  PlayStation3   \n",
       "3                                    Action;Fighting;3D     Dreamcast   \n",
       "4             Action Adventure;Modern;Modern;Open-World       Xbox360   \n",
       "...                                                 ...           ...   \n",
       "4995                           Action Adventure;General            PC   \n",
       "4996  Driving;Racing;Simulation;Rally / Offroad;Rall...  PlayStation3   \n",
       "4997             Action Adventure;Sci-Fi;Sci-Fi;General  PlayStation3   \n",
       "4998                 Platformer;2D;Action;Platformer;2D  PlayStation4   \n",
       "4999                                     Action;General       XboxOne   \n",
       "\n",
       "     Metascore Avg_Userscore             No_Players  \n",
       "0           99           9.1               1 Player  \n",
       "1           98           7.4                   1-2   \n",
       "2           98           7.5               1 Player  \n",
       "3           98           8.6                   1-2   \n",
       "4           98           7.9               1 Player  \n",
       "...        ...           ...                    ...  \n",
       "4995        77           8.1  No Online Multiplayer  \n",
       "4996        77           7.7              4  Online  \n",
       "4997        77           6.8               1 Player  \n",
       "4998        77           8.4          not specified  \n",
       "4999        77           7.2     Online Multiplayer  \n",
       "\n",
       "[5000 rows x 8 columns]"
      ]
     },
     "metadata": {},
     "output_type": "display_data"
    },
    {
     "data": {
      "text/html": [
       "<div>\n",
       "<style scoped>\n",
       "    .dataframe tbody tr th:only-of-type {\n",
       "        vertical-align: middle;\n",
       "    }\n",
       "\n",
       "    .dataframe tbody tr th {\n",
       "        vertical-align: top;\n",
       "    }\n",
       "\n",
       "    .dataframe thead th {\n",
       "        text-align: right;\n",
       "    }\n",
       "</style>\n",
       "<table border=\"1\" class=\"dataframe\">\n",
       "  <thead>\n",
       "    <tr style=\"text-align: right;\">\n",
       "      <th></th>\n",
       "      <th>Title</th>\n",
       "      <th>Platform</th>\n",
       "      <th>Userscore</th>\n",
       "      <th>Comment</th>\n",
       "      <th>Username</th>\n",
       "    </tr>\n",
       "  </thead>\n",
       "  <tbody>\n",
       "    <tr>\n",
       "      <td>0</td>\n",
       "      <td>The Legend of Zelda: Ocarina of Time</td>\n",
       "      <td>Nintendo64</td>\n",
       "      <td>10</td>\n",
       "      <td>Everything in OoT is so near at perfection, it...</td>\n",
       "      <td>SirCaestus</td>\n",
       "    </tr>\n",
       "    <tr>\n",
       "      <td>1</td>\n",
       "      <td>The Legend of Zelda: Ocarina of Time</td>\n",
       "      <td>Nintendo64</td>\n",
       "      <td>10</td>\n",
       "      <td>I won't bore you with what everyone is already...</td>\n",
       "      <td>Kaistlin</td>\n",
       "    </tr>\n",
       "    <tr>\n",
       "      <td>2</td>\n",
       "      <td>The Legend of Zelda: Ocarina of Time</td>\n",
       "      <td>Nintendo64</td>\n",
       "      <td>10</td>\n",
       "      <td>Anyone who gives the masterpiece below a 7 or ...</td>\n",
       "      <td>Jacody</td>\n",
       "    </tr>\n",
       "    <tr>\n",
       "      <td>3</td>\n",
       "      <td>The Legend of Zelda: Ocarina of Time</td>\n",
       "      <td>Nintendo64</td>\n",
       "      <td>10</td>\n",
       "      <td>I'm one of those people who think that this is...</td>\n",
       "      <td>doodlerman</td>\n",
       "    </tr>\n",
       "    <tr>\n",
       "      <td>4</td>\n",
       "      <td>The Legend of Zelda: Ocarina of Time</td>\n",
       "      <td>Nintendo64</td>\n",
       "      <td>10</td>\n",
       "      <td>This game is the highest rated game on Metacr...</td>\n",
       "      <td>StevenA</td>\n",
       "    </tr>\n",
       "    <tr>\n",
       "      <td>...</td>\n",
       "      <td>...</td>\n",
       "      <td>...</td>\n",
       "      <td>...</td>\n",
       "      <td>...</td>\n",
       "      <td>...</td>\n",
       "    </tr>\n",
       "    <tr>\n",
       "      <td>283978</td>\n",
       "      <td>Etrian Odyssey Untold: The Millennium Girl</td>\n",
       "      <td>3DS</td>\n",
       "      <td>7</td>\n",
       "      <td>Extremely similar to EO:4, which obviously isn...</td>\n",
       "      <td>RileyWRussell</td>\n",
       "    </tr>\n",
       "    <tr>\n",
       "      <td>283979</td>\n",
       "      <td>Etrian Odyssey Untold: The Millennium Girl</td>\n",
       "      <td>3DS</td>\n",
       "      <td>0</td>\n",
       "      <td>Typical overrated Atlus trash. A game i should...</td>\n",
       "      <td>TemplarGR</td>\n",
       "    </tr>\n",
       "    <tr>\n",
       "      <td>283980</td>\n",
       "      <td>Etrian Odyssey Untold: The Millennium Girl</td>\n",
       "      <td>3DS</td>\n",
       "      <td>9</td>\n",
       "      <td>While I find the story mode to have annoying c...</td>\n",
       "      <td>midipon</td>\n",
       "    </tr>\n",
       "    <tr>\n",
       "      <td>283981</td>\n",
       "      <td>Etrian Odyssey Untold: The Millennium Girl</td>\n",
       "      <td>3DS</td>\n",
       "      <td>8</td>\n",
       "      <td>Pretty good, but it certainly lacks the visual...</td>\n",
       "      <td>night4</td>\n",
       "    </tr>\n",
       "    <tr>\n",
       "      <td>283982</td>\n",
       "      <td>Etrian Odyssey Untold: The Millennium Girl</td>\n",
       "      <td>3DS</td>\n",
       "      <td>9</td>\n",
       "      <td>As my first game from the \"Etrian series\" i ha...</td>\n",
       "      <td>Balorer</td>\n",
       "    </tr>\n",
       "  </tbody>\n",
       "</table>\n",
       "<p>283983 rows × 5 columns</p>\n",
       "</div>"
      ],
      "text/plain": [
       "                                             Title    Platform  Userscore  \\\n",
       "0             The Legend of Zelda: Ocarina of Time  Nintendo64         10   \n",
       "1             The Legend of Zelda: Ocarina of Time  Nintendo64         10   \n",
       "2             The Legend of Zelda: Ocarina of Time  Nintendo64         10   \n",
       "3             The Legend of Zelda: Ocarina of Time  Nintendo64         10   \n",
       "4             The Legend of Zelda: Ocarina of Time  Nintendo64         10   \n",
       "...                                            ...         ...        ...   \n",
       "283978  Etrian Odyssey Untold: The Millennium Girl         3DS          7   \n",
       "283979  Etrian Odyssey Untold: The Millennium Girl         3DS          0   \n",
       "283980  Etrian Odyssey Untold: The Millennium Girl         3DS          9   \n",
       "283981  Etrian Odyssey Untold: The Millennium Girl         3DS          8   \n",
       "283982  Etrian Odyssey Untold: The Millennium Girl         3DS          9   \n",
       "\n",
       "                                                  Comment       Username  \n",
       "0       Everything in OoT is so near at perfection, it...     SirCaestus  \n",
       "1       I won't bore you with what everyone is already...       Kaistlin  \n",
       "2       Anyone who gives the masterpiece below a 7 or ...         Jacody  \n",
       "3       I'm one of those people who think that this is...     doodlerman  \n",
       "4        This game is the highest rated game on Metacr...        StevenA  \n",
       "...                                                   ...            ...  \n",
       "283978  Extremely similar to EO:4, which obviously isn...  RileyWRussell  \n",
       "283979  Typical overrated Atlus trash. A game i should...      TemplarGR  \n",
       "283980  While I find the story mode to have annoying c...        midipon  \n",
       "283981  Pretty good, but it certainly lacks the visual...         night4  \n",
       "283982  As my first game from the \"Etrian series\" i ha...        Balorer  \n",
       "\n",
       "[283983 rows x 5 columns]"
      ]
     },
     "metadata": {},
     "output_type": "display_data"
    }
   ],
   "source": [
    "# Data source: \n",
    "# Source Query location: \n",
    "pathInfo = 'metacritic_game_info.csv'\n",
    "pathComments = 'metacritic_game_user_comments.csv'\n",
    "\n",
    "# Reads the data from the file - denotes as CSV\n",
    "dfInfo =  pd.read_csv(pathInfo) \n",
    "dfComments = pd.read_csv(pathComments)\n",
    "\n",
    "# Drop 'Unnamed: 0' columns in both datasets\n",
    "dfInfo = dfInfo.drop('Unnamed: 0', 1)\n",
    "dfComments = dfComments.drop('Unnamed: 0', 1)\n",
    "\n",
    "# Display datasets\n",
    "display(dfInfo)\n",
    "display(dfComments)"
   ]
  },
  {
   "cell_type": "markdown",
   "metadata": {},
   "source": [
    "## 2.2 Describe Data <a class=\"anchor\" id=\"Describedata\"></a>\n",
    "Data description report - Describe the data that has been acquired including its format, its quantity (for example, the number of records and fields in each table), the identities of the fields and any other surface features which have been discovered. Evaluate whether the data acquired satisfies your requirements."
   ]
  },
  {
   "cell_type": "code",
   "execution_count": 8,
   "metadata": {},
   "outputs": [
    {
     "name": "stdout",
     "output_type": "stream",
     "text": [
      "---Game Info Columns---\n",
      "Index(['Title', 'Year', 'Publisher', 'Genre', 'Platform', 'Metascore',\n",
      "       'Avg_Userscore', 'No_Players'],\n",
      "      dtype='object')\n",
      "\n",
      "---Review Comments Columns---\n",
      "Index(['Title', 'Platform', 'Userscore', 'Comment', 'Username'], dtype='object')\n"
     ]
    }
   ],
   "source": [
    "print(\"---Game Info Columns---\\n\" + str(dfInfo.columns) + \"\\n\")\n",
    "print(\"---Review Comments Columns---\\n\" + str(dfComments.columns))"
   ]
  },
  {
   "cell_type": "code",
   "execution_count": 9,
   "metadata": {},
   "outputs": [
    {
     "name": "stdout",
     "output_type": "stream",
     "text": [
      "---Game Info Shape---\n",
      "(5000, 8)\n",
      "\n",
      "---Review Comments Shape---\n",
      "(283983, 5)\n"
     ]
    }
   ],
   "source": [
    "print(\"---Game Info Shape---\\n\" + str(dfInfo.shape) + \"\\n\")\n",
    "print(\"---Review Comments Shape---\\n\" + str(dfComments.shape))"
   ]
  },
  {
   "cell_type": "code",
   "execution_count": 10,
   "metadata": {},
   "outputs": [
    {
     "name": "stdout",
     "output_type": "stream",
     "text": [
      "---Game Info Column Data Types---\n",
      "Title            object\n",
      "Year             object\n",
      "Publisher        object\n",
      "Genre            object\n",
      "Platform         object\n",
      "Metascore        object\n",
      "Avg_Userscore    object\n",
      "No_Players       object\n",
      "dtype: object\n",
      "\n",
      "---Review Comments Column Data Types---\n",
      "Title        object\n",
      "Platform     object\n",
      "Userscore     int64\n",
      "Comment      object\n",
      "Username     object\n",
      "dtype: object\n"
     ]
    }
   ],
   "source": [
    "print(\"---Game Info Column Data Types---\\n\" + str(dfInfo.dtypes) + \"\\n\")\n",
    "print(\"---Review Comments Column Data Types---\\n\" + str(dfComments.dtypes))"
   ]
  },
  {
   "cell_type": "code",
   "execution_count": 14,
   "metadata": {},
   "outputs": [
    {
     "name": "stdout",
     "output_type": "stream",
     "text": [
      "---Game Info Description---\n",
      "                Title  Year Publisher                 Genre Platform  \\\n",
      "count            5000  5000      5000                  5000     5000   \n",
      "unique           3438    25      1238                   927       20   \n",
      "top     Madden NFL 07  2017    Capcom  Action;Platformer;2D       PC   \n",
      "freq                7   363       131                   142     1381   \n",
      "\n",
      "       Metascore Avg_Userscore     No_Players  \n",
      "count       5000          5000           4993  \n",
      "unique        24            70             52  \n",
      "top           80           8.2  not specified  \n",
      "freq         530           286           1550  \n",
      "\n",
      "---Review Comments Description---\n",
      "                                 Title Platform      Userscore  \\\n",
      "count                           283983   283983  283983.000000   \n",
      "unique                            2325       20            NaN   \n",
      "top     Call of Duty: Modern Warfare 3       PC            NaN   \n",
      "freq                              5844   118936            NaN   \n",
      "mean                               NaN      NaN       7.618308   \n",
      "std                                NaN      NaN       3.131767   \n",
      "min                                NaN      NaN       0.000000   \n",
      "25%                                NaN      NaN       7.000000   \n",
      "50%                                NaN      NaN       9.000000   \n",
      "75%                                NaN      NaN      10.000000   \n",
      "max                                NaN      NaN      10.000000   \n",
      "\n",
      "                                                  Comment     Username  \n",
      "count                                              283960       283980  \n",
      "unique                                             277706       133664  \n",
      "top     NO DiretideNO New HeroNO UpdatesNO Normal matc...  AnonymousMC  \n",
      "freq                                                   83          914  \n",
      "mean                                                  NaN          NaN  \n",
      "std                                                   NaN          NaN  \n",
      "min                                                   NaN          NaN  \n",
      "25%                                                   NaN          NaN  \n",
      "50%                                                   NaN          NaN  \n",
      "75%                                                   NaN          NaN  \n",
      "max                                                   NaN          NaN  \n"
     ]
    }
   ],
   "source": [
    "print(\"---Game Info Description---\\n\" + str(dfInfo.describe(include = 'all')) + \"\\n\")\n",
    "print(\"---Review Comments Description---\\n\" + str(dfComments.describe(include = 'all')))\n",
    "\n",
    "# Need to convert 'Metascore' and 'Avg_Userscore' data type in Game Info dataset to floats"
   ]
  },
  {
   "cell_type": "code",
   "execution_count": 15,
   "metadata": {},
   "outputs": [
    {
     "name": "stdout",
     "output_type": "stream",
     "text": [
      "<class 'pandas.core.frame.DataFrame'>\n",
      "RangeIndex: 5000 entries, 0 to 4999\n",
      "Data columns (total 8 columns):\n",
      "Title            5000 non-null object\n",
      "Year             5000 non-null object\n",
      "Publisher        5000 non-null object\n",
      "Genre            5000 non-null object\n",
      "Platform         5000 non-null object\n",
      "Metascore        5000 non-null object\n",
      "Avg_Userscore    5000 non-null object\n",
      "No_Players       4993 non-null object\n",
      "dtypes: object(8)\n",
      "memory usage: 312.6+ KB\n",
      "None\n",
      "<class 'pandas.core.frame.DataFrame'>\n",
      "RangeIndex: 283983 entries, 0 to 283982\n",
      "Data columns (total 5 columns):\n",
      "Title        283983 non-null object\n",
      "Platform     283983 non-null object\n",
      "Userscore    283983 non-null int64\n",
      "Comment      283960 non-null object\n",
      "Username     283980 non-null object\n",
      "dtypes: int64(1), object(4)\n",
      "memory usage: 10.8+ MB\n",
      "None\n"
     ]
    }
   ],
   "source": [
    "print(\"---Game Info Information---\\n\" + str(dfInfo.info()) + \"\\n\")\n",
    "print(\"---Review Comments Information---\\n\" + str(dfComments.info()))"
   ]
  },
  {
   "cell_type": "code",
   "execution_count": 17,
   "metadata": {},
   "outputs": [
    {
     "name": "stdout",
     "output_type": "stream",
     "text": [
      "---Game Info First 10 Rows---\n"
     ]
    },
    {
     "data": {
      "text/html": [
       "<div>\n",
       "<style scoped>\n",
       "    .dataframe tbody tr th:only-of-type {\n",
       "        vertical-align: middle;\n",
       "    }\n",
       "\n",
       "    .dataframe tbody tr th {\n",
       "        vertical-align: top;\n",
       "    }\n",
       "\n",
       "    .dataframe thead th {\n",
       "        text-align: right;\n",
       "    }\n",
       "</style>\n",
       "<table border=\"1\" class=\"dataframe\">\n",
       "  <thead>\n",
       "    <tr style=\"text-align: right;\">\n",
       "      <th></th>\n",
       "      <th>Title</th>\n",
       "      <th>Year</th>\n",
       "      <th>Publisher</th>\n",
       "      <th>Genre</th>\n",
       "      <th>Platform</th>\n",
       "      <th>Metascore</th>\n",
       "      <th>Avg_Userscore</th>\n",
       "      <th>No_Players</th>\n",
       "    </tr>\n",
       "  </thead>\n",
       "  <tbody>\n",
       "    <tr>\n",
       "      <td>0</td>\n",
       "      <td>The Legend of Zelda: Ocarina of Time</td>\n",
       "      <td>1998</td>\n",
       "      <td>Nintendo</td>\n",
       "      <td>Action Adventure;Fantasy</td>\n",
       "      <td>Nintendo64</td>\n",
       "      <td>99</td>\n",
       "      <td>9.1</td>\n",
       "      <td>1 Player</td>\n",
       "    </tr>\n",
       "    <tr>\n",
       "      <td>1</td>\n",
       "      <td>Tony Hawk's Pro Skater 2</td>\n",
       "      <td>2000</td>\n",
       "      <td>NeversoftEntertainment</td>\n",
       "      <td>Sports;Alternative;Skateboarding</td>\n",
       "      <td>PlayStation</td>\n",
       "      <td>98</td>\n",
       "      <td>7.4</td>\n",
       "      <td>1-2</td>\n",
       "    </tr>\n",
       "    <tr>\n",
       "      <td>2</td>\n",
       "      <td>Grand Theft Auto IV</td>\n",
       "      <td>2008</td>\n",
       "      <td>RockstarNorth</td>\n",
       "      <td>Action Adventure;Modern;Modern;Open-World</td>\n",
       "      <td>PlayStation3</td>\n",
       "      <td>98</td>\n",
       "      <td>7.5</td>\n",
       "      <td>1 Player</td>\n",
       "    </tr>\n",
       "    <tr>\n",
       "      <td>3</td>\n",
       "      <td>SoulCalibur</td>\n",
       "      <td>1999</td>\n",
       "      <td>Namco</td>\n",
       "      <td>Action;Fighting;3D</td>\n",
       "      <td>Dreamcast</td>\n",
       "      <td>98</td>\n",
       "      <td>8.6</td>\n",
       "      <td>1-2</td>\n",
       "    </tr>\n",
       "    <tr>\n",
       "      <td>4</td>\n",
       "      <td>Grand Theft Auto IV</td>\n",
       "      <td>2008</td>\n",
       "      <td>RockstarNorth</td>\n",
       "      <td>Action Adventure;Modern;Modern;Open-World</td>\n",
       "      <td>Xbox360</td>\n",
       "      <td>98</td>\n",
       "      <td>7.9</td>\n",
       "      <td>1 Player</td>\n",
       "    </tr>\n",
       "    <tr>\n",
       "      <td>5</td>\n",
       "      <td>Super Mario Galaxy</td>\n",
       "      <td>2007</td>\n",
       "      <td>Nintendo</td>\n",
       "      <td>Action;Platformer;Platformer;3D;3D</td>\n",
       "      <td>Wii</td>\n",
       "      <td>97</td>\n",
       "      <td>9.0</td>\n",
       "      <td>No Online Multiplayer</td>\n",
       "    </tr>\n",
       "    <tr>\n",
       "      <td>6</td>\n",
       "      <td>Super Mario Galaxy 2</td>\n",
       "      <td>2010</td>\n",
       "      <td>NintendoEADTokyo</td>\n",
       "      <td>Action;Platformer;Platformer;3D;3D</td>\n",
       "      <td>Wii</td>\n",
       "      <td>97</td>\n",
       "      <td>9.1</td>\n",
       "      <td>No Online Multiplayer</td>\n",
       "    </tr>\n",
       "    <tr>\n",
       "      <td>7</td>\n",
       "      <td>Grand Theft Auto V</td>\n",
       "      <td>2014</td>\n",
       "      <td>RockstarNorth</td>\n",
       "      <td>Action Adventure;Modern;Open-World</td>\n",
       "      <td>XboxOne</td>\n",
       "      <td>97</td>\n",
       "      <td>7.8</td>\n",
       "      <td>Up to 30</td>\n",
       "    </tr>\n",
       "    <tr>\n",
       "      <td>8</td>\n",
       "      <td>Grand Theft Auto V</td>\n",
       "      <td>2013</td>\n",
       "      <td>RockstarNorth</td>\n",
       "      <td>Modern;Action Adventure;Modern;Open-World</td>\n",
       "      <td>PlayStation3</td>\n",
       "      <td>97</td>\n",
       "      <td>8.3</td>\n",
       "      <td>Up to 16</td>\n",
       "    </tr>\n",
       "    <tr>\n",
       "      <td>9</td>\n",
       "      <td>Grand Theft Auto V</td>\n",
       "      <td>2013</td>\n",
       "      <td>RockstarNorth</td>\n",
       "      <td>Modern;Action Adventure;Modern;Open-World</td>\n",
       "      <td>Xbox360</td>\n",
       "      <td>97</td>\n",
       "      <td>8.3</td>\n",
       "      <td>Up to 16</td>\n",
       "    </tr>\n",
       "  </tbody>\n",
       "</table>\n",
       "</div>"
      ],
      "text/plain": [
       "                                  Title  Year               Publisher  \\\n",
       "0  The Legend of Zelda: Ocarina of Time  1998                Nintendo   \n",
       "1              Tony Hawk's Pro Skater 2  2000  NeversoftEntertainment   \n",
       "2                   Grand Theft Auto IV  2008           RockstarNorth   \n",
       "3                           SoulCalibur  1999                   Namco   \n",
       "4                   Grand Theft Auto IV  2008           RockstarNorth   \n",
       "5                    Super Mario Galaxy  2007                Nintendo   \n",
       "6                  Super Mario Galaxy 2  2010        NintendoEADTokyo   \n",
       "7                    Grand Theft Auto V  2014           RockstarNorth   \n",
       "8                    Grand Theft Auto V  2013           RockstarNorth   \n",
       "9                    Grand Theft Auto V  2013           RockstarNorth   \n",
       "\n",
       "                                       Genre      Platform Metascore  \\\n",
       "0                   Action Adventure;Fantasy    Nintendo64        99   \n",
       "1           Sports;Alternative;Skateboarding   PlayStation        98   \n",
       "2  Action Adventure;Modern;Modern;Open-World  PlayStation3        98   \n",
       "3                         Action;Fighting;3D     Dreamcast        98   \n",
       "4  Action Adventure;Modern;Modern;Open-World       Xbox360        98   \n",
       "5         Action;Platformer;Platformer;3D;3D           Wii        97   \n",
       "6         Action;Platformer;Platformer;3D;3D           Wii        97   \n",
       "7         Action Adventure;Modern;Open-World       XboxOne        97   \n",
       "8  Modern;Action Adventure;Modern;Open-World  PlayStation3        97   \n",
       "9  Modern;Action Adventure;Modern;Open-World       Xbox360        97   \n",
       "\n",
       "  Avg_Userscore             No_Players  \n",
       "0           9.1               1 Player  \n",
       "1           7.4                   1-2   \n",
       "2           7.5               1 Player  \n",
       "3           8.6                   1-2   \n",
       "4           7.9               1 Player  \n",
       "5           9.0  No Online Multiplayer  \n",
       "6           9.1  No Online Multiplayer  \n",
       "7           7.8              Up to 30   \n",
       "8           8.3              Up to 16   \n",
       "9           8.3              Up to 16   "
      ]
     },
     "metadata": {},
     "output_type": "display_data"
    },
    {
     "name": "stdout",
     "output_type": "stream",
     "text": [
      "---Review Comments First 10 Rows---\n"
     ]
    },
    {
     "data": {
      "text/html": [
       "<div>\n",
       "<style scoped>\n",
       "    .dataframe tbody tr th:only-of-type {\n",
       "        vertical-align: middle;\n",
       "    }\n",
       "\n",
       "    .dataframe tbody tr th {\n",
       "        vertical-align: top;\n",
       "    }\n",
       "\n",
       "    .dataframe thead th {\n",
       "        text-align: right;\n",
       "    }\n",
       "</style>\n",
       "<table border=\"1\" class=\"dataframe\">\n",
       "  <thead>\n",
       "    <tr style=\"text-align: right;\">\n",
       "      <th></th>\n",
       "      <th>Title</th>\n",
       "      <th>Platform</th>\n",
       "      <th>Userscore</th>\n",
       "      <th>Comment</th>\n",
       "      <th>Username</th>\n",
       "    </tr>\n",
       "  </thead>\n",
       "  <tbody>\n",
       "    <tr>\n",
       "      <td>0</td>\n",
       "      <td>The Legend of Zelda: Ocarina of Time</td>\n",
       "      <td>Nintendo64</td>\n",
       "      <td>10</td>\n",
       "      <td>Everything in OoT is so near at perfection, it...</td>\n",
       "      <td>SirCaestus</td>\n",
       "    </tr>\n",
       "    <tr>\n",
       "      <td>1</td>\n",
       "      <td>The Legend of Zelda: Ocarina of Time</td>\n",
       "      <td>Nintendo64</td>\n",
       "      <td>10</td>\n",
       "      <td>I won't bore you with what everyone is already...</td>\n",
       "      <td>Kaistlin</td>\n",
       "    </tr>\n",
       "    <tr>\n",
       "      <td>2</td>\n",
       "      <td>The Legend of Zelda: Ocarina of Time</td>\n",
       "      <td>Nintendo64</td>\n",
       "      <td>10</td>\n",
       "      <td>Anyone who gives the masterpiece below a 7 or ...</td>\n",
       "      <td>Jacody</td>\n",
       "    </tr>\n",
       "    <tr>\n",
       "      <td>3</td>\n",
       "      <td>The Legend of Zelda: Ocarina of Time</td>\n",
       "      <td>Nintendo64</td>\n",
       "      <td>10</td>\n",
       "      <td>I'm one of those people who think that this is...</td>\n",
       "      <td>doodlerman</td>\n",
       "    </tr>\n",
       "    <tr>\n",
       "      <td>4</td>\n",
       "      <td>The Legend of Zelda: Ocarina of Time</td>\n",
       "      <td>Nintendo64</td>\n",
       "      <td>10</td>\n",
       "      <td>This game is the highest rated game on Metacr...</td>\n",
       "      <td>StevenA</td>\n",
       "    </tr>\n",
       "    <tr>\n",
       "      <td>5</td>\n",
       "      <td>The Legend of Zelda: Ocarina of Time</td>\n",
       "      <td>Nintendo64</td>\n",
       "      <td>10</td>\n",
       "      <td>I think it's funny that you have Zelda haters ...</td>\n",
       "      <td>joei1382</td>\n",
       "    </tr>\n",
       "    <tr>\n",
       "      <td>6</td>\n",
       "      <td>The Legend of Zelda: Ocarina of Time</td>\n",
       "      <td>Nintendo64</td>\n",
       "      <td>9</td>\n",
       "      <td>I played A Link To The Past so many times in m...</td>\n",
       "      <td>Corvix</td>\n",
       "    </tr>\n",
       "    <tr>\n",
       "      <td>7</td>\n",
       "      <td>The Legend of Zelda: Ocarina of Time</td>\n",
       "      <td>Nintendo64</td>\n",
       "      <td>10</td>\n",
       "      <td>The Legend of Zelda: Ocarina of Time is withou...</td>\n",
       "      <td>pittsburghboy91</td>\n",
       "    </tr>\n",
       "    <tr>\n",
       "      <td>8</td>\n",
       "      <td>The Legend of Zelda: Ocarina of Time</td>\n",
       "      <td>Nintendo64</td>\n",
       "      <td>10</td>\n",
       "      <td>This review contains spoilers, cli...</td>\n",
       "      <td>Nosidda89</td>\n",
       "    </tr>\n",
       "    <tr>\n",
       "      <td>9</td>\n",
       "      <td>The Legend of Zelda: Ocarina of Time</td>\n",
       "      <td>Nintendo64</td>\n",
       "      <td>10</td>\n",
       "      <td>I'm not kidding when I say that this is the on...</td>\n",
       "      <td>Regeneration13</td>\n",
       "    </tr>\n",
       "  </tbody>\n",
       "</table>\n",
       "</div>"
      ],
      "text/plain": [
       "                                  Title    Platform  Userscore  \\\n",
       "0  The Legend of Zelda: Ocarina of Time  Nintendo64         10   \n",
       "1  The Legend of Zelda: Ocarina of Time  Nintendo64         10   \n",
       "2  The Legend of Zelda: Ocarina of Time  Nintendo64         10   \n",
       "3  The Legend of Zelda: Ocarina of Time  Nintendo64         10   \n",
       "4  The Legend of Zelda: Ocarina of Time  Nintendo64         10   \n",
       "5  The Legend of Zelda: Ocarina of Time  Nintendo64         10   \n",
       "6  The Legend of Zelda: Ocarina of Time  Nintendo64          9   \n",
       "7  The Legend of Zelda: Ocarina of Time  Nintendo64         10   \n",
       "8  The Legend of Zelda: Ocarina of Time  Nintendo64         10   \n",
       "9  The Legend of Zelda: Ocarina of Time  Nintendo64         10   \n",
       "\n",
       "                                             Comment         Username  \n",
       "0  Everything in OoT is so near at perfection, it...       SirCaestus  \n",
       "1  I won't bore you with what everyone is already...         Kaistlin  \n",
       "2  Anyone who gives the masterpiece below a 7 or ...           Jacody  \n",
       "3  I'm one of those people who think that this is...       doodlerman  \n",
       "4   This game is the highest rated game on Metacr...          StevenA  \n",
       "5  I think it's funny that you have Zelda haters ...         joei1382  \n",
       "6  I played A Link To The Past so many times in m...           Corvix  \n",
       "7  The Legend of Zelda: Ocarina of Time is withou...  pittsburghboy91  \n",
       "8              This review contains spoilers, cli...        Nosidda89  \n",
       "9  I'm not kidding when I say that this is the on...   Regeneration13  "
      ]
     },
     "metadata": {},
     "output_type": "display_data"
    }
   ],
   "source": [
    "print(\"---Game Info First 10 Rows---\")\n",
    "display(dfInfo.head(10))\n",
    "\n",
    "print(\"---Review Comments First 10 Rows---\")\n",
    "display(dfComments.head(10))"
   ]
  },
  {
   "cell_type": "markdown",
   "metadata": {},
   "source": [
    "## 2.3 Verify Data Quality <a class=\"anchor\" id=\"Verifydataquality\"></a>\n",
    "\n",
    "Examine the quality of the data, addressing questions such as:\n",
    "\n",
    "- Is the data complete (does it cover all the cases required)?\n",
    "- Is it correct, or does it contain errors and, if there are errors, how common are they?\n",
    "- Are there missing values in the data? If so, how are they represented, where do they occur, and how common are they?"
   ]
  },
  {
   "cell_type": "markdown",
   "metadata": {},
   "source": [
    "### 2.3.1. Missing Data <a class=\"anchor\" id=\"MissingData\"></a>\n",
    "In addition to incorrect datatypes, another common problem when dealing with real-world data is missing values. These can arise for many reasons and have to be either filled in or removed before we train a machine learning model. First, let’s get a sense of how many missing values are in each column \n",
    "\n",
    "While we always want to be careful about removing information, if a column has a high percentage of missing values, then it probably will not be useful to our model. The threshold for removing columns should depend on the problem"
   ]
  },
  {
   "cell_type": "code",
   "execution_count": null,
   "metadata": {},
   "outputs": [],
   "source": [
    "df.isnull().sum()"
   ]
  },
  {
   "cell_type": "code",
   "execution_count": null,
   "metadata": {},
   "outputs": [],
   "source": [
    "def missing_values_table(df):\n",
    "        mis_val = df.isnull().sum()\n",
    "        mis_val_percent = 100 * df.isnull().sum() / len(df)\n",
    "        mis_val_table = pd.concat([mis_val, mis_val_percent], axis=1)\n",
    "        mis_val_table_ren_columns = mis_val_table.rename(\n",
    "        columns = {0 : 'Missing Values', 1 : '% of Total Values'})\n",
    "        mis_val_table_ren_columns = mis_val_table_ren_columns[\n",
    "            mis_val_table_ren_columns.iloc[:,1] != 0].sort_values(\n",
    "        '% of Total Values', ascending=False).round(1)\n",
    "        print (\"Your selected dataframe has \" + str(df.shape[1]) + \" columns.\\n\"      \n",
    "            \"There are \" + str(mis_val_table_ren_columns.shape[0]) +\n",
    "              \" columns that have missing values.\")\n",
    "        return mis_val_table_ren_columns"
   ]
  },
  {
   "cell_type": "code",
   "execution_count": null,
   "metadata": {},
   "outputs": [],
   "source": [
    "missing_values_table(df)"
   ]
  },
  {
   "cell_type": "code",
   "execution_count": null,
   "metadata": {},
   "outputs": [],
   "source": [
    "# Get the columns with > 50% missing\n",
    "missing_df = missing_values_table(df);\n",
    "missing_columns = list(missing_df[missing_df['% of Total Values'] > 50].index)\n",
    "print('We will remove %d columns.' % len(missing_columns))"
   ]
  },
  {
   "cell_type": "code",
   "execution_count": null,
   "metadata": {},
   "outputs": [],
   "source": [
    "# Drop the columns\n",
    "df = df.drop(list(missing_columns))"
   ]
  },
  {
   "cell_type": "markdown",
   "metadata": {},
   "source": [
    "### 2.3.2. Outliers <a class=\"anchor\" id=\"Outliers\"></a>\n",
    "At this point, we may also want to remove outliers. These can be due to typos in data entry, mistakes in units, or they could be legitimate but extreme values. For this project, we will remove anomalies based on the definition of extreme outliers:\n",
    "\n",
    "https://www.itl.nist.gov/div898/handbook/prc/section1/prc16.htm\n",
    "\n",
    "- Below the first quartile − 3 ∗ interquartile range\n",
    "- Above the third quartile + 3 ∗ interquartile range"
   ]
  },
  {
   "cell_type": "markdown",
   "metadata": {},
   "source": [
    "## 2.4 Initial Data Exploration  <a class=\"anchor\" id=\"Exploredata\"></a>\n",
    "During this stage you'll address data mining questions using querying, data visualization and reporting techniques. These ***may*** include:\n",
    "\n",
    "- **Distribution** of key attributes (for example, the target attribute of a prediction task)\n",
    "- **Relationships** between pairs or small numbers of attributes\n",
    "- Results of **simple aggregations**\n",
    "- **Properties** of significant sub-populations\n",
    "- **Simple** statistical analyses\n",
    "\n",
    "These analyses may directly address your data mining goals. They may also contribute to or refine the data description and quality reports, and feed into the transformation and other data preparation steps needed for further analysis. \n",
    "\n",
    "- **Data exploration report** - Describe results of your data exploration, including first findings or initial hypothesis and their impact on the remainder of the project. If appropriate you could include graphs and plots here to indicate data characteristics that suggest further examination of interesting data subsets."
   ]
  },
  {
   "cell_type": "markdown",
   "metadata": {},
   "source": [
    "### 2.4.1 Distributions  <a class=\"anchor\" id=\"Distributions\"></a>"
   ]
  },
  {
   "cell_type": "code",
   "execution_count": null,
   "metadata": {},
   "outputs": [],
   "source": [
    "def count_values_table(df):\n",
    "        count_val = df.value_counts()\n",
    "        count_val_percent = 100 * df.value_counts() / len(df)\n",
    "        count_val_table = pd.concat([count_val, count_val_percent.round(1)], axis=1)\n",
    "        count_val_table_ren_columns = count_val_table.rename(\n",
    "        columns = {0 : 'Count Values', 1 : '% of Total Values'})\n",
    "        return count_val_table_ren_columns"
   ]
  },
  {
   "cell_type": "code",
   "execution_count": null,
   "metadata": {},
   "outputs": [],
   "source": [
    "# Histogram\n",
    "def hist_chart(df, col):\n",
    "        plt.style.use('fivethirtyeight')\n",
    "        plt.hist(df[col].dropna(), edgecolor = 'k');\n",
    "        plt.xlabel(col); plt.ylabel('Number of Entries'); \n",
    "        plt.title('Distribution of '+col);"
   ]
  },
  {
   "cell_type": "code",
   "execution_count": null,
   "metadata": {},
   "outputs": [],
   "source": [
    "col = 'account_risk_band'\n",
    "# Histogram & Results\n",
    "hist_chart(df, col)\n",
    "count_values_table(df.account_risk_band)"
   ]
  },
  {
   "cell_type": "markdown",
   "metadata": {},
   "source": [
    "### 2.4.2 Correlations  <a class=\"anchor\" id=\"Correlations\"></a>\n",
    "Can we derive any correlation from this data-set. Pairplot chart gives us correlations, distributions and regression path\n",
    "Correlogram are awesome for exploratory analysis. It allows to quickly observe the relationship between every variable of your matrix. \n",
    "It is easy to do it with seaborn: just call the pairplot function\n",
    "\n",
    "Pairplot Documentation cab be found here: https://seaborn.pydata.org/generated/seaborn.pairplot.html"
   ]
  },
  {
   "cell_type": "code",
   "execution_count": null,
   "metadata": {},
   "outputs": [],
   "source": [
    "#Seaborn allows to make a correlogram or correlation matrix really easily. \n",
    "#sns.pairplot(df.dropna().drop(['x'], axis=1), hue='y', kind ='reg')\n",
    "\n",
    "#plt.show()\n"
   ]
  },
  {
   "cell_type": "code",
   "execution_count": null,
   "metadata": {},
   "outputs": [],
   "source": [
    "#df_agg = df.drop(['x'], axis=1).groupby(['y']).sum()\n",
    "df_agg = df.groupby(['y']).sum()"
   ]
  },
  {
   "cell_type": "markdown",
   "metadata": {},
   "source": [
    "## 2.5 Data Quality Report <a class=\"anchor\" id=\"Dataqualityreport\"></a>\n",
    "List the results of the data quality verification. If quality problems exist, suggest possible solutions. Solutions to data quality problems generally depend heavily on both data and business knowledge."
   ]
  },
  {
   "cell_type": "code",
   "execution_count": null,
   "metadata": {},
   "outputs": [],
   "source": []
  },
  {
   "cell_type": "markdown",
   "metadata": {},
   "source": [
    "# 3. Stage Three - Data Preperation <a class=\"anchor\" id=\"Datapreperation\"></a>\n",
    "This is the stage of the project where you decide on the data that you're going to use for analysis. The criteria you might use to make this decision include the relevance of the data to your data mining goals, the quality of the data, and also technical constraints such as limits on data volume or data types. Note that data selection covers selection of attributes (columns) as well as selection of records (rows) in a table."
   ]
  },
  {
   "cell_type": "markdown",
   "metadata": {},
   "source": [
    "## 3.1 Select Your Data <a class=\"anchor\" id=\"Selectyourdata\"></a>\n",
    "This is the stage of the project where you decide on the data that you're going to use for analysis. The criteria you might use to make this decision include the relevance of the data to your data mining goals, the quality of the data, and also technical constraints such as limits on data volume or data types. Note that data selection covers selection of attributes (columns) as well as selection of records (rows) in a table.\n",
    "\n",
    "Rationale for inclusion/exclusion - List the data to be included/excluded and the reasons for these decisions."
   ]
  },
  {
   "cell_type": "code",
   "execution_count": null,
   "metadata": {},
   "outputs": [],
   "source": [
    "X_train_regr = df.drop(['date_maint', 'account_open_date'], axis = 1)\n",
    "X_train = df.drop(['target', 'date_maint', 'account_open_date'], axis = 1)\n",
    "X_test = test.drop(['date_maint', 'account_open_date'], axis = 1)"
   ]
  },
  {
   "cell_type": "markdown",
   "metadata": {},
   "source": [
    "## 3.2 Clean The Data <a class=\"anchor\" id=\"Cleansethedata\"></a>\n",
    "This task involves raise the data quality to the level required by the analysis techniques that you've selected. This may involve selecting clean subsets of the data, the insertion of suitable defaults, or more ambitious techniques such as the estimation of missing data by modelling."
   ]
  },
  {
   "cell_type": "markdown",
   "metadata": {},
   "source": [
    "### 3.2.1 Label Encoding <a class=\"anchor\" id=\"labelEncoding\"></a>\n",
    "Label Encoding to turn Categorical values to Integers\n",
    "\n",
    "An approach to encoding categorical values is to use a technique called label encoding. Label encoding is simply converting each value in a column to a number. For example, the body_style column contains 5 different values. We could choose to encode it like this:\n",
    "\n",
    "convertible -> 0\n",
    "hardtop -> 1\n",
    "hatchback -> 2\n",
    "sedan -> 3\n",
    "wagon -> 4\n",
    "http://pbpython.com/categorical-encoding.html"
   ]
  },
  {
   "cell_type": "code",
   "execution_count": null,
   "metadata": {},
   "outputs": [],
   "source": [
    "from sklearn.preprocessing import OneHotEncoder, LabelEncoder\n",
    "for col in CAT_COLS:\n",
    "        encoder = LabelEncoder()\n",
    "        X_train[col] = encoder.fit_transform(X_train[col].astype(str))\n",
    "        X_test[col] = encoder.transform(X_test[col].astype(str))"
   ]
  },
  {
   "cell_type": "code",
   "execution_count": null,
   "metadata": {},
   "outputs": [],
   "source": [
    "df[\"column\"] = df[\"column\"].astype('category')\n",
    "df.dtypes"
   ]
  },
  {
   "cell_type": "code",
   "execution_count": null,
   "metadata": {},
   "outputs": [],
   "source": [
    "df[\"column\"] = df[\"column\"].cat.codes\n",
    "df.head()"
   ]
  },
  {
   "cell_type": "markdown",
   "metadata": {},
   "source": [
    "### 3.2.2 Drop Unnecessary Columns <a class=\"anchor\" id=\"DropCols\"></a>\n",
    "Sometimes we may not need certain columns. We can drop to keep only relevent data"
   ]
  },
  {
   "cell_type": "code",
   "execution_count": null,
   "metadata": {},
   "outputs": [],
   "source": [
    "del_col_list = ['col1', 'col2']\n",
    "\n",
    "df = df.drop(del_col_list, axis=1)\n",
    "df.head()"
   ]
  },
  {
   "cell_type": "markdown",
   "metadata": {},
   "source": [
    "### 3.2.3 Altering Data Types <a class=\"anchor\" id=\"AlteringDatatypes\"></a>\n",
    "Sometimes we may need to alter data types. Including to/from object datatypes"
   ]
  },
  {
   "cell_type": "code",
   "execution_count": null,
   "metadata": {},
   "outputs": [],
   "source": [
    "#df['date'] = pd.to_datetime(df['date'])"
   ]
  },
  {
   "cell_type": "markdown",
   "metadata": {},
   "source": [
    "### 3.2.4 Dealing With Zeros <a class=\"anchor\" id=\"DealingZeros\"></a>\n",
    "Replacing all the zeros from cols. **Note** You may not want to do this - add / remove as required"
   ]
  },
  {
   "cell_type": "code",
   "execution_count": null,
   "metadata": {},
   "outputs": [],
   "source": [
    "#cols = ['col1', 'col2']\n",
    "#df[cols] = df[cols].replace(0, np.nan)"
   ]
  },
  {
   "cell_type": "code",
   "execution_count": null,
   "metadata": {},
   "outputs": [],
   "source": [
    "# dropping all the rows with na in the columns mentioned above in the list.\n",
    "\n",
    "# df.dropna(subset=cols, inplace=True)\n"
   ]
  },
  {
   "cell_type": "markdown",
   "metadata": {},
   "source": [
    "### 3.2.5 Dealing With Duplicates <a class=\"anchor\" id=\"DealingDuplicates\"></a>\n",
    "Remove duplicate rows. **Note** You may not want to do this - add / remove as required"
   ]
  },
  {
   "cell_type": "code",
   "execution_count": null,
   "metadata": {},
   "outputs": [],
   "source": [
    "#df = df.drop_duplicates(keep='first')"
   ]
  },
  {
   "cell_type": "markdown",
   "metadata": {},
   "source": [
    "## 3.3 Construct Required Data   <a class=\"anchor\" id=\"Constructrequireddata\"></a>\n",
    "This task includes constructive data preparation operations such as the production of derived attributes or entire new records, or transformed values for existing attributes.\n",
    "\n",
    "**Derived attributes** - These are new attributes that are constructed from one or more existing attributes in the same record, for example you might use the variables of length and width to calculate a new variable of area.\n",
    "\n",
    "**Generated records** - Here you describe the creation of any completely new records. For example you might need to create records for customers who made no purchase during the past year. There was no reason to have such records in the raw data, but for modelling purposes it might make sense to explicitly represent the fact that particular customers made zero purchases.\n"
   ]
  },
  {
   "cell_type": "code",
   "execution_count": null,
   "metadata": {},
   "outputs": [],
   "source": []
  },
  {
   "cell_type": "markdown",
   "metadata": {},
   "source": [
    "## 3.4 Integrate Data  <a class=\"anchor\" id=\"Integratedata\"></a>\n",
    "These are methods whereby information is combined from multiple databases, tables or records to create new records or values.\n",
    "\n",
    "**Merged data** - Merging tables refers to joining together two or more tables that have different information about the same objects. For example a retail chain might have one table with information about each store’s general characteristics (e.g., floor space, type of mall), another table with summarised sales data (e.g., profit, percent change in sales from previous year), and another with information about the demographics of the surrounding area. Each of these tables contains one record for each store. These tables can be merged together into a new table with one record for each store, combining fields from the source tables.\n",
    "\n",
    "**Aggregations** - Aggregations refers to operations in which new values are computed by summarising information from multiple records and/or tables. For example, converting a table of customer purchases where there is one record for each purchase into a new table where there is one record for each customer, with fields such as number of purchases, average purchase amount, percent of orders charged to credit card, percent of items under promotion etc.\n"
   ]
  },
  {
   "cell_type": "code",
   "execution_count": null,
   "metadata": {},
   "outputs": [],
   "source": []
  },
  {
   "cell_type": "markdown",
   "metadata": {},
   "source": [
    "## 3.5 Primary Data Set  <a class=\"anchor\" id=\"Primary Data Set\"></a>\n",
    "Construct Our Primary Data Set, this is the pre-processed data set that will be used for the data modeling experiments."
   ]
  },
  {
   "cell_type": "code",
   "execution_count": null,
   "metadata": {},
   "outputs": [],
   "source": []
  },
  {
   "cell_type": "markdown",
   "metadata": {},
   "source": [
    "# 4. Modelling <a class=\"anchor\" id=\"Modelling\"></a>\n",
    "As the first step in modelling, you'll select the actual modelling technique that you'll be using. Although you may have already selected a tool during the business understanding phase, at this stage you'll be selecting the specific modelling technique e.g. Association Rules with Apriori,  decision-tree building with C5.0, Clustering with K-Meand or neural network generation with back propagation. If multiple techniques are applied, perform this task separately for each technique.\n",
    "\n"
   ]
  },
  {
   "cell_type": "markdown",
   "metadata": {},
   "source": [
    "## 4.1. Modelling technique <a class=\"anchor\" id=\"ModellingTechnique\"></a>\n",
    "Document the actual modelling technique that is to be used.\n",
    "\n",
    "Import Models below:"
   ]
  },
  {
   "cell_type": "code",
   "execution_count": null,
   "metadata": {},
   "outputs": [],
   "source": []
  },
  {
   "cell_type": "markdown",
   "metadata": {},
   "source": [
    "## 4.2. Modelling assumptions <a class=\"anchor\" id=\"ModellingAssumptions\"></a>\n",
    "Many modelling techniques make specific assumptions about the data, for example that all attributes have uniform distributions, no missing values allowed, class attribute must be symbolic etc. Record any assumptions made.\n",
    "\n",
    "- \n",
    "- \n"
   ]
  },
  {
   "cell_type": "markdown",
   "metadata": {},
   "source": [
    "## 5.3. Build Model <a class=\"anchor\" id=\"BuildModel\"></a>\n",
    "Run the modelling tool on the prepared dataset to create one or more models.\n",
    "\n",
    "**Parameter settings** - With any modelling tool there are often a large number of parameters that can be adjusted. List the parameters and their chosen values, along with the rationale for the choice of parameter settings.\n",
    "\n",
    "**Models** - These are the actual models produced by the modelling tool, not a report on the models.\n",
    "\n",
    "**Model descriptions** - Describe the resulting models, report on the interpretation of the models and document any difficulties encountered with their meanings."
   ]
  },
  {
   "cell_type": "code",
   "execution_count": null,
   "metadata": {},
   "outputs": [],
   "source": []
  },
  {
   "cell_type": "markdown",
   "metadata": {
    "collapsed": true
   },
   "source": [
    "## 6. Results/Data/Findings <a class=\"anchor\" id=\"Results\"></a>\n",
    "- This section has only one job, which is to present the findings of your research as simply as possible. \n",
    "- Use the format that will achieve this most effectively: e.g. text, graphs, tables or diagrams. \n",
    "- Don’t repeat the same information in two visual formats (e.g. a graph and a table).  \n",
    "- Label your graphs and tables clearly. \n",
    "- Give each figure a title and describe in words what the figure demonstrates. \n",
    "- Save your interpretation of the results for the Discussion section. \n",
    "- In most data mining projects a single technique is applied more than once and data mining results are generated with several different parameters \n",
    "- At this stage you should rank the models and assess them according to the evaluation criteria. \n"
   ]
  },
  {
   "cell_type": "code",
   "execution_count": null,
   "metadata": {},
   "outputs": [],
   "source": []
  },
  {
   "cell_type": "markdown",
   "metadata": {},
   "source": [
    "# 6. Discussion <a class=\"anchor\" id=\"Discussion\"></a>\t\n",
    "\n",
    "Discussion\n",
    "- This is probably the longest writing section. \n",
    "- It brings everything together, showing how your findings respond to the brief you explained in your introduction and the previous research you surveyed in your literature review. \n",
    "- This is the place to mention if there were any problems (e.g. your results were different from expectations, you couldn’t find important data, or you had to change your method or participants) and how they were, or could have been, solved.\n",
    "- Interpret the models according to your domain knowledge, your data mining success criteria and your desired test design. \n",
    "- Judge the success of the application of modelling and discovery techniques technically, then in the business context. \n",
    "\n",
    "\n"
   ]
  },
  {
   "cell_type": "markdown",
   "metadata": {},
   "source": [
    "# 7. Conclusion <a class=\"anchor\" id=\"Conclusion\"></a>\n",
    "- Should be a short section with no new arguments or evidence. \n",
    "- Sum up the main points of your research. How do they answer the original brief for the work reported on? This section may also include: \n",
    "    - Recommendations for action \n",
    "    - Suggestions for further research "
   ]
  },
  {
   "cell_type": "markdown",
   "metadata": {},
   "source": [
    "# 8. Reference List/Bibliography <a class=\"anchor\" id=\"Reference\"></a>\n",
    "\n",
    "Datasets: From Kaggle: https://www.kaggle.com/dahlia25/metacritic-video-game-comments Author: Dahlia\n",
    "\n",
    "Metacritic Matters: How Review Scores Hurt Video Games: https://kotaku.com/metacritic-matters-how-review-scores-hurt-video-games-472462218 Author: Jason Schreier Published: 08/08/2015\n",
    "\n",
    "On the Validity of Metacritic in Assessing Game Value: https://www.eludamos.org/index.php/eludamos/article/viewArticle/vol7no1-6/7-1-6-html Authors: Adams Greenwood-Ericksen, Scott R. Poorman, Roy Papp\n"
   ]
  },
  {
   "cell_type": "code",
   "execution_count": null,
   "metadata": {},
   "outputs": [],
   "source": []
  },
  {
   "cell_type": "code",
   "execution_count": null,
   "metadata": {},
   "outputs": [],
   "source": []
  },
  {
   "cell_type": "code",
   "execution_count": null,
   "metadata": {},
   "outputs": [],
   "source": []
  }
 ],
 "metadata": {
  "kernelspec": {
   "display_name": "Python 3",
   "language": "python",
   "name": "python3"
  },
  "language_info": {
   "codemirror_mode": {
    "name": "ipython",
    "version": 3
   },
   "file_extension": ".py",
   "mimetype": "text/x-python",
   "name": "python",
   "nbconvert_exporter": "python",
   "pygments_lexer": "ipython3",
   "version": "3.7.4"
  }
 },
 "nbformat": 4,
 "nbformat_minor": 2
}
